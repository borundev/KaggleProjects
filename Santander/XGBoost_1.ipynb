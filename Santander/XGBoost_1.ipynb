{
 "cells": [
  {
   "cell_type": "code",
   "execution_count": 1,
   "metadata": {
    "collapsed": false
   },
   "outputs": [],
   "source": [
    "import numpy as np # linear algebra\n",
    "import pandas as pd # data processing, CSV file I/O (e.g. pd.read_csv)\n",
    "import matplotlib.pyplot as plt\n",
    "%matplotlib inline\n",
    "from sklearn import cross_validation\n",
    "import xgboost as xgb\n",
    "from sklearn.metrics import roc_auc_score\n",
    "import seaborn as sns\n",
    "\n",
    "import xgboost as xgb\n",
    "from xgboost.sklearn import XGBClassifier\n",
    "from sklearn import cross_validation, metrics   \n",
    "from sklearn.grid_search import GridSearchCV   \n",
    "\n",
    "from matplotlib.pylab import rcParams\n",
    "rcParams['figure.figsize'] = 12, 4"
   ]
  },
  {
   "cell_type": "code",
   "execution_count": 2,
   "metadata": {
    "collapsed": true
   },
   "outputs": [],
   "source": [
    "def write_submission_file(estimator,name=\"\"):\n",
    "    estimator.fit(train[predictors],train[target])\n",
    "    y_prob=estimator.predict_proba(test[predictors])[:, 1]\n",
    "    output=pd.DataFrame([test[IDcol],y_prob],index=[IDcol,target]).T\n",
    "    output.ID=output.ID.astype(int)\n",
    "    if len(name):\n",
    "        output.to_csv('submission_'+name+'.csv',index=False)\n",
    "    else:\n",
    "        output.to_csv('submission.csv',index=False)"
   ]
  },
  {
   "cell_type": "code",
   "execution_count": 3,
   "metadata": {
    "collapsed": false
   },
   "outputs": [],
   "source": [
    "# read in data and assign target and ID variables\n",
    "train = pd.read_csv('train.csv')\n",
    "test=pd.read_csv('test.csv')\n",
    "target = 'TARGET'\n",
    "IDcol = 'ID'\n",
    "\n",
    "\n"
   ]
  },
  {
   "cell_type": "code",
   "execution_count": null,
   "metadata": {
    "collapsed": true
   },
   "outputs": [],
   "source": [
    "# choose predictors\n",
    "predictors = [x for x in train.columns if x not in [target, IDcol]]"
   ]
  },
  {
   "cell_type": "code",
   "execution_count": 11,
   "metadata": {
    "collapsed": false
   },
   "outputs": [],
   "source": [
    "#No categorical data\n",
    "\n",
    "\n",
    "#categorical=[]\n",
    "#numeral=[]\n",
    "#for (train_name, train_series), (test_name, test_series) in zip(train.iteritems(),test.iteritems()):\n",
    "#    if train_name != test_name:\n",
    "#        print \"train and test name are not the same\"\n",
    "#        break\n",
    "#    name=train_name\n",
    "#    if train_series.dtype == 'O':\n",
    "#        categorical.append(name)\n",
    "#        train[name], tmp_indexer = pd.factorize(train[name])\n",
    "#        test[name] = tmp_indexer.get_indexer(test[name])\n",
    "#    else:\n",
    "#        numeral.append(name)\n"
   ]
  },
  {
   "cell_type": "code",
   "execution_count": 31,
   "metadata": {
    "collapsed": false
   },
   "outputs": [],
   "source": [
    "\n",
    "# impute missing data\n",
    "\n",
    "from sklearn.preprocessing import Imputer\n",
    "\n",
    "\n",
    "imp = Imputer(missing_values='NaN', strategy='mean', axis=0)\n",
    "cols=train.columns\n",
    "train=pd.DataFrame(imp.fit_transform(train),columns=cols)\n",
    "cols=test.columns\n",
    "test=pd.DataFrame(imp.fit_transform(test),columns=cols)\n",
    "\n"
   ]
  },
  {
   "cell_type": "code",
   "execution_count": 33,
   "metadata": {
    "collapsed": false
   },
   "outputs": [
    {
     "data": {
      "text/plain": [
       "([mean: 0.83914, std: 0.00875, params: {'max_depth': 3, 'min_child_weight': 1},\n",
       "  mean: 0.83865, std: 0.00902, params: {'max_depth': 3, 'min_child_weight': 3},\n",
       "  mean: 0.83928, std: 0.00895, params: {'max_depth': 3, 'min_child_weight': 5},\n",
       "  mean: 0.83725, std: 0.00945, params: {'max_depth': 5, 'min_child_weight': 1},\n",
       "  mean: 0.83758, std: 0.00903, params: {'max_depth': 5, 'min_child_weight': 3},\n",
       "  mean: 0.83747, std: 0.00931, params: {'max_depth': 5, 'min_child_weight': 5},\n",
       "  mean: 0.83426, std: 0.00928, params: {'max_depth': 7, 'min_child_weight': 1},\n",
       "  mean: 0.83527, std: 0.00877, params: {'max_depth': 7, 'min_child_weight': 3},\n",
       "  mean: 0.83610, std: 0.00931, params: {'max_depth': 7, 'min_child_weight': 5},\n",
       "  mean: 0.82905, std: 0.00873, params: {'max_depth': 9, 'min_child_weight': 1},\n",
       "  mean: 0.83022, std: 0.00867, params: {'max_depth': 9, 'min_child_weight': 3},\n",
       "  mean: 0.83214, std: 0.00855, params: {'max_depth': 9, 'min_child_weight': 5}],\n",
       " {'max_depth': 3, 'min_child_weight': 5},\n",
       " 0.83927540604542705)"
      ]
     },
     "execution_count": 33,
     "metadata": {},
     "output_type": "execute_result"
    }
   ],
   "source": [
    "param_test1 = {\n",
    " 'max_depth':range(3,10,2),\n",
    " 'min_child_weight':range(1,6,2)\n",
    "}\n",
    "gsearch1 = GridSearchCV(estimator = XGBClassifier( learning_rate =0.1, n_estimators=140, max_depth=5,\n",
    " min_child_weight=1, gamma=0, subsample=0.8, colsample_bytree=0.8,\n",
    " objective= 'binary:logistic', nthread=4, scale_pos_weight=1, seed=27), \n",
    " param_grid = param_test1, scoring='roc_auc',n_jobs=4,iid=False, cv=5)\n",
    "gsearch1.fit(train[predictors],train[target])\n",
    "gsearch1.grid_scores_, gsearch1.best_params_, gsearch1.best_score_"
   ]
  },
  {
   "cell_type": "code",
   "execution_count": 34,
   "metadata": {
    "collapsed": false
   },
   "outputs": [
    {
     "name": "stdout",
     "output_type": "stream",
     "text": [
      "Fitting 5 folds for each of 9 candidates, totalling 45 fits\n"
     ]
    },
    {
     "name": "stderr",
     "output_type": "stream",
     "text": [
      "[Parallel(n_jobs=4)]: Done   5 tasks      | elapsed:  2.1min\n",
      "[Parallel(n_jobs=4)]: Done  10 tasks      | elapsed:  3.2min\n",
      "[Parallel(n_jobs=4)]: Done  17 tasks      | elapsed:  5.9min\n",
      "[Parallel(n_jobs=4)]: Done  24 tasks      | elapsed:  7.9min\n",
      "[Parallel(n_jobs=4)]: Done  33 tasks      | elapsed: 12.4min\n",
      "[Parallel(n_jobs=4)]: Done  45 out of  45 | elapsed: 18.0min finished\n"
     ]
    },
    {
     "name": "stdout",
     "output_type": "stream",
     "text": [
      "[CV] max_depth=2, min_child_weight=4 .................................\n",
      "[CV] max_depth=2, min_child_weight=4 .................................\n",
      "[CV] max_depth=2, min_child_weight=4 .................................\n",
      "[CV] max_depth=2, min_child_weight=4 .................................\n",
      "[CV] ........ max_depth=2, min_child_weight=4, score=0.835947 - 1.1min[CV] ........ max_depth=2, min_child_weight=4, score=0.825416 - 1.1min[CV] ........ max_depth=2, min_child_weight=4, score=0.841164 - 1.1min[CV] ........ max_depth=2, min_child_weight=4, score=0.851997 - 1.1min\n",
      "\n",
      "\n",
      "\n",
      "[CV] max_depth=2, min_child_weight=5 .................................[CV] max_depth=2, min_child_weight=5 .................................\n",
      "[CV] max_depth=2, min_child_weight=5 .................................\n",
      "[CV] max_depth=2, min_child_weight=4 .................................\n",
      "[CV] ........ max_depth=2, min_child_weight=5, score=0.835926 - 1.0min[CV] ........ max_depth=2, min_child_weight=5, score=0.841485 - 1.0min\n",
      "[CV] ........ max_depth=2, min_child_weight=5, score=0.825914 - 1.0min\n",
      "\n",
      "[CV] ........ max_depth=2, min_child_weight=4, score=0.835727 - 1.0min\n",
      "[CV] max_depth=2, min_child_weight=5 .................................[CV] max_depth=2, min_child_weight=6 .................................\n",
      "[CV] max_depth=2, min_child_weight=6 .................................\n",
      "\n",
      "[CV] max_depth=2, min_child_weight=5 .................................\n",
      "[CV] ........ max_depth=2, min_child_weight=5, score=0.834669 - 1.1min[CV] ........ max_depth=2, min_child_weight=6, score=0.826228 - 1.1min\n",
      "[CV] ........ max_depth=2, min_child_weight=6, score=0.835830 - 1.1min\n",
      "\n",
      "[CV] ........ max_depth=2, min_child_weight=5, score=0.851913 - 1.1min\n",
      "[CV] max_depth=2, min_child_weight=6 .................................[CV] max_depth=3, min_child_weight=4 .................................\n",
      "[CV] max_depth=2, min_child_weight=6 .................................\n",
      "\n",
      "[CV] max_depth=2, min_child_weight=6 .................................\n",
      "[CV] ........ max_depth=2, min_child_weight=6, score=0.835286 - 1.1min[CV] ........ max_depth=3, min_child_weight=4, score=0.834819 - 1.5min\n",
      "[CV] ........ max_depth=2, min_child_weight=6, score=0.850983 - 1.1min\n",
      "\n",
      "[CV] ........ max_depth=2, min_child_weight=6, score=0.841433 - 1.1min\n",
      "[CV] max_depth=3, min_child_weight=4 .................................[CV] max_depth=3, min_child_weight=4 .................................\n",
      "[CV] max_depth=3, min_child_weight=4 .................................\n",
      "\n",
      "[CV] max_depth=3, min_child_weight=4 .................................\n",
      "[CV] ........ max_depth=3, min_child_weight=4, score=0.843716 - 1.6min[CV] ........ max_depth=3, min_child_weight=4, score=0.837508 - 1.6min\n",
      "[CV] ........ max_depth=3, min_child_weight=4, score=0.853846 - 1.6min\n",
      "\n",
      "[CV] ........ max_depth=3, min_child_weight=4, score=0.825948 - 1.6min\n",
      "[CV] max_depth=3, min_child_weight=5 .................................[CV] max_depth=3, min_child_weight=5 .................................\n",
      "[CV] max_depth=3, min_child_weight=5 .................................\n",
      "\n",
      "[CV] max_depth=3, min_child_weight=5 .................................\n",
      "[CV] ........ max_depth=3, min_child_weight=5, score=0.826003 - 1.6min[CV] ........ max_depth=3, min_child_weight=5, score=0.853422 - 1.6min\n",
      "[CV] ........ max_depth=3, min_child_weight=5, score=0.836402 - 1.5min\n",
      "\n",
      "[CV] ........ max_depth=3, min_child_weight=5, score=0.842889 - 1.6min\n",
      "[CV] max_depth=3, min_child_weight=6 .................................[CV] max_depth=3, min_child_weight=6 .................................\n",
      "[CV] max_depth=3, min_child_weight=5 .................................\n",
      "\n",
      "[CV] max_depth=3, min_child_weight=6 .................................\n",
      "[CV] ........ max_depth=3, min_child_weight=6, score=0.827175 - 1.5min[CV] ........ max_depth=3, min_child_weight=6, score=0.843562 - 1.5min\n",
      "[CV] ........ max_depth=3, min_child_weight=5, score=0.837662 - 1.5min\n",
      "\n",
      "[CV] ........ max_depth=3, min_child_weight=6, score=0.834906 - 1.5min\n",
      "[CV] max_depth=4, min_child_weight=4 .................................[CV] max_depth=4, min_child_weight=4 .................................\n",
      "[CV] max_depth=3, min_child_weight=6 .................................\n",
      "\n",
      "[CV] max_depth=3, min_child_weight=6 .................................\n",
      "[CV] ........ max_depth=4, min_child_weight=4, score=0.834402 - 2.0min[CV] ........ max_depth=4, min_child_weight=4, score=0.827129 - 1.9min\n",
      "[CV] ........ max_depth=3, min_child_weight=6, score=0.853144 - 1.5min\n",
      "\n",
      "[CV] ........ max_depth=3, min_child_weight=6, score=0.837766 - 1.5min\n",
      "[CV] max_depth=4, min_child_weight=4 .................................[CV] max_depth=4, min_child_weight=5 .................................\n",
      "[CV] max_depth=4, min_child_weight=4 .................................\n",
      "\n",
      "[CV] max_depth=4, min_child_weight=4 .................................\n",
      "[CV] ........ max_depth=4, min_child_weight=4, score=0.837594 - 1.9min[CV] ........ max_depth=4, min_child_weight=5, score=0.835409 - 2.0min\n",
      "[CV] ........ max_depth=4, min_child_weight=4, score=0.841101 - 1.9min\n",
      "\n",
      "[CV] ........ max_depth=4, min_child_weight=4, score=0.853176 - 1.9min\n",
      "[CV] max_depth=4, min_child_weight=5 .................................[CV] max_depth=4, min_child_weight=5 .................................\n",
      "[CV] max_depth=4, min_child_weight=5 .................................\n",
      "\n",
      "[CV] max_depth=4, min_child_weight=5 .................................\n",
      "[CV] ........ max_depth=4, min_child_weight=5, score=0.853176 - 2.0min[CV] ........ max_depth=4, min_child_weight=5, score=0.836449 - 2.0min\n",
      "[CV] ........ max_depth=4, min_child_weight=5, score=0.824408 - 2.0min\n",
      "\n",
      "[CV] ........ max_depth=4, min_child_weight=5, score=0.841987 - 2.0min\n",
      "[CV] max_depth=4, min_child_weight=6 .................................[CV] max_depth=4, min_child_weight=6 .................................\n",
      "[CV] max_depth=4, min_child_weight=6 .................................\n",
      "\n",
      "[CV] max_depth=4, min_child_weight=6 .................................\n",
      "[CV] ........ max_depth=4, min_child_weight=6, score=0.842710 - 2.0min[CV] ........ max_depth=4, min_child_weight=6, score=0.854082 - 1.8min\n",
      "[CV] ........ max_depth=4, min_child_weight=6, score=0.833702 - 2.0min\n",
      "\n",
      "[CV] ........ max_depth=4, min_child_weight=6, score=0.825579 - 2.0min\n",
      "\n",
      "[CV] max_depth=4, min_child_weight=6 .................................\n",
      "[CV] ........ max_depth=4, min_child_weight=6, score=0.838478 - 1.6min\n"
     ]
    },
    {
     "data": {
      "text/plain": [
       "([mean: 0.83805, std: 0.00864, params: {'max_depth': 2, 'min_child_weight': 4},\n",
       "  mean: 0.83798, std: 0.00857, params: {'max_depth': 2, 'min_child_weight': 5},\n",
       "  mean: 0.83795, std: 0.00814, params: {'max_depth': 2, 'min_child_weight': 6},\n",
       "  mean: 0.83917, std: 0.00930, params: {'max_depth': 3, 'min_child_weight': 4},\n",
       "  mean: 0.83928, std: 0.00895, params: {'max_depth': 3, 'min_child_weight': 5},\n",
       "  mean: 0.83931, std: 0.00870, params: {'max_depth': 3, 'min_child_weight': 6},\n",
       "  mean: 0.83868, std: 0.00859, params: {'max_depth': 4, 'min_child_weight': 4},\n",
       "  mean: 0.83829, std: 0.00938, params: {'max_depth': 4, 'min_child_weight': 5},\n",
       "  mean: 0.83891, std: 0.00948, params: {'max_depth': 4, 'min_child_weight': 6}],\n",
       " {'max_depth': 3, 'min_child_weight': 6},\n",
       " 0.8393103908242544)"
      ]
     },
     "execution_count": 34,
     "metadata": {},
     "output_type": "execute_result"
    }
   ],
   "source": [
    "param_test1 = {\n",
    " 'max_depth': [2,3,4],\n",
    " 'min_child_weight':[4,5,6]\n",
    "}\n",
    "gsearch1 = GridSearchCV(estimator = XGBClassifier( learning_rate =0.1, n_estimators=140, max_depth=5,\n",
    " min_child_weight=1, gamma=0, subsample=0.8, colsample_bytree=0.8,\n",
    " objective= 'binary:logistic', nthread=4, scale_pos_weight=1, seed=27), \n",
    " param_grid = param_test1, scoring='roc_auc',n_jobs=4,iid=False, cv=5,verbose=10)\n",
    "gsearch1.fit(train[predictors],train[target])\n",
    "gsearch1.grid_scores_, gsearch1.best_params_, gsearch1.best_score_"
   ]
  },
  {
   "cell_type": "code",
   "execution_count": 35,
   "metadata": {
    "collapsed": false
   },
   "outputs": [
    {
     "name": "stdout",
     "output_type": "stream",
     "text": [
      "Fitting 5 folds for each of 5 candidates, totalling 25 fits\n"
     ]
    },
    {
     "name": "stderr",
     "output_type": "stream",
     "text": [
      "[Parallel(n_jobs=4)]: Done   5 tasks      | elapsed:  3.1min\n",
      "[Parallel(n_jobs=4)]: Done  10 tasks      | elapsed:  4.7min\n",
      "[Parallel(n_jobs=4)]: Done  17 tasks      | elapsed:  7.7min\n",
      "[Parallel(n_jobs=4)]: Done  25 out of  25 | elapsed: 10.3min finished\n"
     ]
    },
    {
     "name": "stdout",
     "output_type": "stream",
     "text": [
      "[CV] gamma=0.0 .......................................................\n",
      "[CV] gamma=0.0 .......................................................\n",
      "[CV] gamma=0.0 .......................................................\n",
      "[CV] gamma=0.0 .......................................................\n",
      "[CV] .............................. gamma=0.0, score=0.834906 - 1.6min[CV] .............................. gamma=0.0, score=0.827175 - 1.6min[CV] .............................. gamma=0.0, score=0.843562 - 1.6min[CV] .............................. gamma=0.0, score=0.853144 - 1.6min\n",
      "\n",
      "\n",
      "\n",
      "[CV] gamma=0.0 .......................................................[CV] gamma=0.1 .......................................................[CV] gamma=0.1 .......................................................\n",
      "[CV] gamma=0.1 .......................................................\n",
      "\n",
      "[CV] .............................. gamma=0.1, score=0.843566 - 1.5min\n",
      "[CV] .............................. gamma=0.0, score=0.837766 - 1.5min[CV] .............................. gamma=0.1, score=0.827189 - 1.5min\n",
      "[CV] .............................. gamma=0.1, score=0.834665 - 1.5min\n",
      "\n",
      "[CV] gamma=0.2 .......................................................\n",
      "[CV] gamma=0.1 .......................................................[CV] gamma=0.1 .......................................................\n",
      "[CV] gamma=0.2 .......................................................\n",
      "\n",
      "[CV] .............................. gamma=0.2, score=0.827189 - 1.5min\n",
      "[CV] .............................. gamma=0.1, score=0.853197 - 1.5min[CV] .............................. gamma=0.1, score=0.837838 - 1.5min\n",
      "[CV] .............................. gamma=0.2, score=0.834661 - 1.5min\n",
      "\n",
      "[CV] gamma=0.3 .......................................................\n",
      "[CV] gamma=0.2 .......................................................[CV] gamma=0.2 .......................................................\n",
      "[CV] gamma=0.2 .......................................................\n",
      "\n",
      "[CV] .............................. gamma=0.3, score=0.834475 - 1.5min\n",
      "[CV] .............................. gamma=0.2, score=0.843566 - 1.5min[CV] .............................. gamma=0.2, score=0.853197 - 1.5min\n",
      "[CV] .............................. gamma=0.2, score=0.838073 - 1.5min\n",
      "\n",
      "[CV] gamma=0.3 .......................................................\n",
      "[CV] gamma=0.3 .......................................................[CV] gamma=0.3 .......................................................\n",
      "[CV] gamma=0.3 .......................................................\n",
      "\n",
      "[CV] .............................. gamma=0.3, score=0.838093 - 1.5min\n",
      "[CV] .............................. gamma=0.3, score=0.827189 - 1.5min[CV] .............................. gamma=0.3, score=0.853513 - 1.5min\n",
      "[CV] .............................. gamma=0.3, score=0.843580 - 1.5min\n",
      "\n",
      "[CV] gamma=0.4 .......................................................\n",
      "[CV] gamma=0.4 .......................................................[CV] gamma=0.4 .......................................................\n",
      "[CV] gamma=0.4 .......................................................\n",
      "\n",
      "[CV] .............................. gamma=0.4, score=0.843574 - 1.5min\n",
      "[CV] .............................. gamma=0.4, score=0.834990 - 1.5min[CV] .............................. gamma=0.4, score=0.852942 - 1.5min\n",
      "[CV] .............................. gamma=0.4, score=0.826760 - 1.5min\n",
      "\n",
      "\n",
      "[CV] gamma=0.4 .......................................................\n",
      "[CV] .............................. gamma=0.4, score=0.838065 - 1.1min\n"
     ]
    },
    {
     "data": {
      "text/plain": [
       "([mean: 0.83931, std: 0.00870, params: {'gamma': 0.0},\n",
       "  mean: 0.83929, std: 0.00874, params: {'gamma': 0.1},\n",
       "  mean: 0.83934, std: 0.00873, params: {'gamma': 0.2},\n",
       "  mean: 0.83937, std: 0.00885, params: {'gamma': 0.3},\n",
       "  mean: 0.83927, std: 0.00874, params: {'gamma': 0.4}],\n",
       " {'gamma': 0.3},\n",
       " 0.8393700224931967)"
      ]
     },
     "execution_count": 35,
     "metadata": {},
     "output_type": "execute_result"
    }
   ],
   "source": [
    "param_test1 = {\n",
    "  'gamma':[i/10.0 for i in range(0,5)]\n",
    "}\n",
    "gsearch1 = GridSearchCV(estimator = XGBClassifier( learning_rate =0.1, n_estimators=140, max_depth=3,\n",
    " min_child_weight=6, gamma=0, subsample=0.8, colsample_bytree=0.8,\n",
    " objective= 'binary:logistic', nthread=4, scale_pos_weight=1, seed=27), \n",
    " param_grid = param_test1, scoring='roc_auc',n_jobs=4,iid=False, cv=5,verbose=10)\n",
    "gsearch1.fit(train[predictors],train[target])\n",
    "gsearch1.grid_scores_, gsearch1.best_params_, gsearch1.best_score_"
   ]
  },
  {
   "cell_type": "code",
   "execution_count": 36,
   "metadata": {
    "collapsed": false
   },
   "outputs": [
    {
     "name": "stdout",
     "output_type": "stream",
     "text": [
      "Fitting 5 folds for each of 16 candidates, totalling 80 fits\n"
     ]
    },
    {
     "name": "stderr",
     "output_type": "stream",
     "text": [
      "[Parallel(n_jobs=4)]: Done   5 tasks      | elapsed:  2.7min\n",
      "[Parallel(n_jobs=4)]: Done  10 tasks      | elapsed:  3.9min\n",
      "[Parallel(n_jobs=4)]: Done  17 tasks      | elapsed:  6.3min\n",
      "[Parallel(n_jobs=4)]: Done  24 tasks      | elapsed:  7.8min\n",
      "[Parallel(n_jobs=4)]: Done  33 tasks      | elapsed: 11.7min\n",
      "[Parallel(n_jobs=4)]: Done  42 tasks      | elapsed: 14.6min\n",
      "[Parallel(n_jobs=4)]: Done  53 tasks      | elapsed: 19.0min\n",
      "[Parallel(n_jobs=4)]: Done  64 tasks      | elapsed: 22.2min\n",
      "[Parallel(n_jobs=4)]: Done  80 out of  80 | elapsed: 28.7min finished\n"
     ]
    },
    {
     "name": "stdout",
     "output_type": "stream",
     "text": [
      "[CV] subsample=0.6, colsample_bytree=0.6 .............................\n",
      "[CV] subsample=0.6, colsample_bytree=0.6 .............................\n",
      "[CV] subsample=0.6, colsample_bytree=0.6 .............................\n",
      "[CV] subsample=0.6, colsample_bytree=0.6 .............................\n",
      "[CV] .... subsample=0.6, colsample_bytree=0.6, score=0.833529 - 1.4min[CV] .... subsample=0.6, colsample_bytree=0.6, score=0.827155 - 1.4min[CV] .... subsample=0.6, colsample_bytree=0.6, score=0.842424 - 1.4min[CV] .... subsample=0.6, colsample_bytree=0.6, score=0.853612 - 1.4min\n",
      "\n",
      "\n",
      "\n",
      "[CV] subsample=0.7, colsample_bytree=0.6 .............................[CV] subsample=0.7, colsample_bytree=0.6 .............................[CV] subsample=0.7, colsample_bytree=0.6 .............................[CV] subsample=0.6, colsample_bytree=0.6 .............................\n",
      "\n",
      "\n",
      "\n",
      "[CV] .... subsample=0.7, colsample_bytree=0.6, score=0.834861 - 1.3min[CV] .... subsample=0.7, colsample_bytree=0.6, score=0.843236 - 1.3min[CV] .... subsample=0.7, colsample_bytree=0.6, score=0.828782 - 1.3min[CV] .... subsample=0.6, colsample_bytree=0.6, score=0.835196 - 1.3min\n",
      "\n",
      "\n",
      "\n",
      "[CV] subsample=0.8, colsample_bytree=0.6 .............................\n",
      "[CV] subsample=0.7, colsample_bytree=0.6 .............................\n",
      "[CV] subsample=0.7, colsample_bytree=0.6 .............................[CV] subsample=0.8, colsample_bytree=0.6 .............................[CV] .... subsample=0.8, colsample_bytree=0.6, score=0.834119 - 1.2min[CV] .... subsample=0.7, colsample_bytree=0.6, score=0.837347 - 1.2min\n",
      "\n",
      "\n",
      "\n",
      "[CV] .... subsample=0.7, colsample_bytree=0.6, score=0.852885 - 1.2min[CV] .... subsample=0.8, colsample_bytree=0.6, score=0.827537 - 1.2min[CV] subsample=0.8, colsample_bytree=0.6 .............................[CV] subsample=0.8, colsample_bytree=0.6 .............................\n",
      "\n",
      "\n",
      "\n",
      "[CV] subsample=0.9, colsample_bytree=0.6 .............................[CV] subsample=0.8, colsample_bytree=0.6 .............................[CV] .... subsample=0.8, colsample_bytree=0.6, score=0.843504 - 1.2min[CV] .... subsample=0.8, colsample_bytree=0.6, score=0.852515 - 1.2min\n",
      "\n",
      "\n",
      "\n",
      "[CV] .... subsample=0.9, colsample_bytree=0.6, score=0.834149 - 1.2min[CV] .... subsample=0.8, colsample_bytree=0.6, score=0.836756 - 1.2min[CV] subsample=0.9, colsample_bytree=0.6 .............................[CV] subsample=0.9, colsample_bytree=0.6 .............................\n",
      "\n",
      "\n",
      "\n",
      "[CV] subsample=0.9, colsample_bytree=0.6 .............................[CV] subsample=0.9, colsample_bytree=0.6 .............................[CV] .... subsample=0.9, colsample_bytree=0.6, score=0.842846 - 1.2min[CV] .... subsample=0.9, colsample_bytree=0.6, score=0.853586 - 1.2min\n",
      "\n",
      "\n",
      "\n",
      "[CV] .... subsample=0.9, colsample_bytree=0.6, score=0.828651 - 1.2min[CV] .... subsample=0.9, colsample_bytree=0.6, score=0.836222 - 1.2min[CV] subsample=0.6, colsample_bytree=0.7 .............................[CV] subsample=0.6, colsample_bytree=0.7 .............................\n",
      "\n",
      "\n",
      "\n",
      "[CV] subsample=0.6, colsample_bytree=0.7 .............................[CV] subsample=0.6, colsample_bytree=0.7 .............................[CV] .... subsample=0.6, colsample_bytree=0.7, score=0.853138 - 1.4min[CV] .... subsample=0.6, colsample_bytree=0.7, score=0.827914 - 1.4min\n",
      "\n",
      "\n",
      "\n",
      "[CV] .... subsample=0.6, colsample_bytree=0.7, score=0.834293 - 1.4min[CV] .... subsample=0.6, colsample_bytree=0.7, score=0.842896 - 1.4min[CV] subsample=0.7, colsample_bytree=0.7 .............................[CV] subsample=0.7, colsample_bytree=0.7 .............................\n",
      "\n",
      "\n",
      "\n",
      "[CV] subsample=0.6, colsample_bytree=0.7 .............................[CV] subsample=0.7, colsample_bytree=0.7 .............................[CV] .... subsample=0.7, colsample_bytree=0.7, score=0.842499 - 1.4min[CV] .... subsample=0.7, colsample_bytree=0.7, score=0.836178 - 1.4min\n",
      "\n",
      "\n",
      "\n",
      "[CV] .... subsample=0.6, colsample_bytree=0.7, score=0.835788 - 1.4min[CV] .... subsample=0.7, colsample_bytree=0.7, score=0.827074 - 1.3min[CV] subsample=0.8, colsample_bytree=0.7 .............................[CV] subsample=0.7, colsample_bytree=0.7 .............................\n",
      "\n",
      "\n",
      "\n",
      "[CV] subsample=0.7, colsample_bytree=0.7 .............................[CV] subsample=0.8, colsample_bytree=0.7 .............................[CV] .... subsample=0.8, colsample_bytree=0.7, score=0.826122 - 1.3min[CV] .... subsample=0.7, colsample_bytree=0.7, score=0.851957 - 1.3min\n",
      "\n",
      "\n",
      "\n",
      "[CV] .... subsample=0.7, colsample_bytree=0.7, score=0.837794 - 1.3min[CV] .... subsample=0.8, colsample_bytree=0.7, score=0.835394 - 1.3min[CV] subsample=0.8, colsample_bytree=0.7 .............................[CV] subsample=0.8, colsample_bytree=0.7 .............................\n",
      "\n",
      "\n",
      "\n",
      "[CV] subsample=0.9, colsample_bytree=0.7 .............................[CV] subsample=0.8, colsample_bytree=0.7 .............................[CV] .... subsample=0.8, colsample_bytree=0.7, score=0.837686 - 1.3min[CV] .... subsample=0.8, colsample_bytree=0.7, score=0.853179 - 1.3min\n",
      "\n",
      "\n",
      "\n",
      "[CV] .... subsample=0.9, colsample_bytree=0.7, score=0.835062 - 1.3min[CV] .... subsample=0.8, colsample_bytree=0.7, score=0.842567 - 1.3min[CV] subsample=0.9, colsample_bytree=0.7 .............................[CV] subsample=0.9, colsample_bytree=0.7 .............................\n",
      "\n",
      "\n",
      "\n",
      "[CV] subsample=0.9, colsample_bytree=0.7 .............................[CV] subsample=0.9, colsample_bytree=0.7 .............................[CV] .... subsample=0.9, colsample_bytree=0.7, score=0.835957 - 1.3min[CV] .... subsample=0.9, colsample_bytree=0.7, score=0.852225 - 1.3min\n",
      "\n",
      "\n",
      "\n",
      "[CV] .... subsample=0.9, colsample_bytree=0.7, score=0.842965 - 1.3min[CV] .... subsample=0.9, colsample_bytree=0.7, score=0.828357 - 1.3min[CV] subsample=0.6, colsample_bytree=0.8 .............................[CV] subsample=0.6, colsample_bytree=0.8 .............................\n",
      "\n",
      "\n",
      "\n",
      "[CV] subsample=0.6, colsample_bytree=0.8 .............................[CV] subsample=0.6, colsample_bytree=0.8 .............................[CV] .... subsample=0.6, colsample_bytree=0.8, score=0.853322 - 1.6min[CV] .... subsample=0.6, colsample_bytree=0.8, score=0.834403 - 1.6min\n",
      "\n",
      "\n",
      "\n",
      "[CV] .... subsample=0.6, colsample_bytree=0.8, score=0.842970 - 1.6min[CV] .... subsample=0.6, colsample_bytree=0.8, score=0.825679 - 1.6min[CV] subsample=0.7, colsample_bytree=0.8 .............................[CV] subsample=0.6, colsample_bytree=0.8 .............................\n",
      "\n",
      "\n",
      "\n",
      "[CV] subsample=0.7, colsample_bytree=0.8 .............................[CV] subsample=0.7, colsample_bytree=0.8 .............................[CV] .... subsample=0.7, colsample_bytree=0.8, score=0.844675 - 1.5min[CV] .... subsample=0.6, colsample_bytree=0.8, score=0.835087 - 1.6min\n",
      "\n",
      "\n",
      "\n",
      "[CV] .... subsample=0.7, colsample_bytree=0.8, score=0.835795 - 1.6min[CV] .... subsample=0.7, colsample_bytree=0.8, score=0.826487 - 1.5min[CV] subsample=0.7, colsample_bytree=0.8 .............................[CV] subsample=0.8, colsample_bytree=0.8 .............................\n",
      "\n",
      "\n",
      "\n",
      "[CV] subsample=0.8, colsample_bytree=0.8 .............................[CV] subsample=0.7, colsample_bytree=0.8 .............................[CV] .... subsample=0.7, colsample_bytree=0.8, score=0.837238 - 1.5min[CV] .... subsample=0.8, colsample_bytree=0.8, score=0.827189 - 1.5min\n",
      "\n",
      "\n",
      "\n",
      "[CV] .... subsample=0.8, colsample_bytree=0.8, score=0.834475 - 1.5min[CV] .... subsample=0.7, colsample_bytree=0.8, score=0.852632 - 1.5min[CV] subsample=0.8, colsample_bytree=0.8 .............................[CV] subsample=0.9, colsample_bytree=0.8 .............................\n",
      "\n",
      "\n",
      "\n",
      "[CV] subsample=0.8, colsample_bytree=0.8 .............................[CV] subsample=0.8, colsample_bytree=0.8 .............................[CV] .... subsample=0.8, colsample_bytree=0.8, score=0.838093 - 1.5min[CV] .... subsample=0.9, colsample_bytree=0.8, score=0.835693 - 1.4min\n",
      "\n",
      "\n",
      "\n",
      "[CV] .... subsample=0.8, colsample_bytree=0.8, score=0.843580 - 1.5min[CV] .... subsample=0.8, colsample_bytree=0.8, score=0.853513 - 1.5min[CV] subsample=0.9, colsample_bytree=0.8 .............................[CV] subsample=0.9, colsample_bytree=0.8 .............................\n",
      "\n",
      "\n",
      "\n",
      "[CV] subsample=0.9, colsample_bytree=0.8 .............................[CV] subsample=0.9, colsample_bytree=0.8 .............................[CV] .... subsample=0.9, colsample_bytree=0.8, score=0.835661 - 1.4min[CV] .... subsample=0.9, colsample_bytree=0.8, score=0.827034 - 1.4min\n",
      "\n",
      "\n",
      "\n",
      "[CV] .... subsample=0.9, colsample_bytree=0.8, score=0.842311 - 1.4min[CV] .... subsample=0.9, colsample_bytree=0.8, score=0.853470 - 1.4min[CV] subsample=0.6, colsample_bytree=0.9 .............................[CV] subsample=0.6, colsample_bytree=0.9 .............................\n",
      "\n",
      "\n",
      "\n",
      "[CV] subsample=0.6, colsample_bytree=0.9 .............................[CV] subsample=0.6, colsample_bytree=0.9 .............................[CV] .... subsample=0.6, colsample_bytree=0.9, score=0.842529 - 1.7min[CV] .... subsample=0.6, colsample_bytree=0.9, score=0.834629 - 1.7min\n",
      "\n",
      "\n",
      "\n",
      "[CV] .... subsample=0.6, colsample_bytree=0.9, score=0.825569 - 1.7min[CV] .... subsample=0.6, colsample_bytree=0.9, score=0.852427 - 1.7min[CV] subsample=0.7, colsample_bytree=0.9 .............................[CV] subsample=0.6, colsample_bytree=0.9 .............................\n",
      "\n",
      "\n",
      "\n",
      "[CV] subsample=0.7, colsample_bytree=0.9 .............................[CV] subsample=0.7, colsample_bytree=0.9 ............................."
     ]
    },
    {
     "data": {
      "text/plain": [
       "([mean: 0.83838, std: 0.00903, params: {'subsample': 0.6, 'colsample_bytree': 0.6},\n",
       "  mean: 0.83942, std: 0.00817, params: {'subsample': 0.7, 'colsample_bytree': 0.6},\n",
       "  mean: 0.83889, std: 0.00852, params: {'subsample': 0.8, 'colsample_bytree': 0.6},\n",
       "  mean: 0.83909, std: 0.00855, params: {'subsample': 0.9, 'colsample_bytree': 0.6},\n",
       "  mean: 0.83881, std: 0.00861, params: {'subsample': 0.6, 'colsample_bytree': 0.7},\n",
       "  mean: 0.83910, std: 0.00815, params: {'subsample': 0.7, 'colsample_bytree': 0.7},\n",
       "  mean: 0.83899, std: 0.00888, params: {'subsample': 0.8, 'colsample_bytree': 0.7},\n",
       "  mean: 0.83891, std: 0.00811, params: {'subsample': 0.9, 'colsample_bytree': 0.7},\n",
       "  mean: 0.83829, std: 0.00930, params: {'subsample': 0.6, 'colsample_bytree': 0.8},\n",
       "  mean: 0.83937, std: 0.00880, params: {'subsample': 0.7, 'colsample_bytree': 0.8},\n",
       "  mean: 0.83937, std: 0.00885, params: {'subsample': 0.8, 'colsample_bytree': 0.8},\n",
       "  mean: 0.83883, std: 0.00878, params: {'subsample': 0.9, 'colsample_bytree': 0.8},\n",
       "  mean: 0.83826, std: 0.00892, params: {'subsample': 0.6, 'colsample_bytree': 0.9},\n",
       "  mean: 0.83880, std: 0.00907, params: {'subsample': 0.7, 'colsample_bytree': 0.9},\n",
       "  mean: 0.83899, std: 0.00886, params: {'subsample': 0.8, 'colsample_bytree': 0.9},\n",
       "  mean: 0.83837, std: 0.00937, params: {'subsample': 0.9, 'colsample_bytree': 0.9}],\n",
       " {'colsample_bytree': 0.6, 'subsample': 0.7},\n",
       " 0.83942223265352589)"
      ]
     },
     "execution_count": 36,
     "metadata": {},
     "output_type": "execute_result"
    },
    {
     "name": "stdout",
     "output_type": "stream",
     "text": [
      "[CV] .... subsample=0.7, colsample_bytree=0.9, score=0.825522 - 1.7min[CV] .... subsample=0.6, colsample_bytree=0.9, score=0.836142 - 1.7min\n",
      "\n",
      "\n",
      "\n",
      "[CV] .... subsample=0.7, colsample_bytree=0.9, score=0.836281 - 1.7min[CV] .... subsample=0.7, colsample_bytree=0.9, score=0.842466 - 1.7min[CV] subsample=0.7, colsample_bytree=0.9 .............................[CV] subsample=0.8, colsample_bytree=0.9 .............................\n",
      "\n",
      "\n",
      "\n",
      "[CV] .... subsample=0.8, colsample_bytree=0.9, score=0.826178 - 1.6min[CV] subsample=0.7, colsample_bytree=0.9 .............................\n",
      "[CV] subsample=0.8, colsample_bytree=0.9 .............................[CV] .... subsample=0.7, colsample_bytree=0.9, score=0.836468 - 1.7min\n",
      "[CV] .... subsample=0.7, colsample_bytree=0.9, score=0.853285 - 1.7min\n",
      "\n",
      "[CV] subsample=0.8, colsample_bytree=0.9 .............................\n",
      "[CV] .... subsample=0.8, colsample_bytree=0.9, score=0.835017 - 1.6min[CV] subsample=0.9, colsample_bytree=0.9 .............................\n",
      "[CV] subsample=0.8, colsample_bytree=0.9 .............................\n",
      "\n",
      "[CV] .... subsample=0.8, colsample_bytree=0.9, score=0.852768 - 1.6min\n",
      "[CV] subsample=0.8, colsample_bytree=0.9 .............................[CV] .... subsample=0.9, colsample_bytree=0.9, score=0.835050 - 1.6min\n",
      "[CV] .... subsample=0.8, colsample_bytree=0.9, score=0.837463 - 1.6min\n",
      "\n",
      "[CV] subsample=0.9, colsample_bytree=0.9 .............................\n",
      "[CV] .... subsample=0.8, colsample_bytree=0.9, score=0.843508 - 1.6min[CV] subsample=0.9, colsample_bytree=0.9 .............................\n",
      "[CV] subsample=0.9, colsample_bytree=0.9 .............................\n",
      "\n",
      "[CV] .... subsample=0.9, colsample_bytree=0.9, score=0.842976 - 1.6min\n",
      "[CV] subsample=0.9, colsample_bytree=0.9 .............................[CV] .... subsample=0.9, colsample_bytree=0.9, score=0.824934 - 1.6min\n",
      "[CV] .... subsample=0.9, colsample_bytree=0.9, score=0.853167 - 1.6min\n",
      "\n",
      "[CV] .... subsample=0.9, colsample_bytree=0.9, score=0.835709 - 1.6min\n",
      "\n"
     ]
    }
   ],
   "source": [
    "param_test1 = {\n",
    "    'subsample':[i/10.0 for i in range(6,10)],\n",
    "    'colsample_bytree':[i/10.0 for i in range(6,10)]\n",
    "}\n",
    "gsearch1 = GridSearchCV(estimator = XGBClassifier( learning_rate =0.1, n_estimators=140, max_depth=3,\n",
    " min_child_weight=6, gamma=.3, subsample=0.8, colsample_bytree=0.8,\n",
    " objective= 'binary:logistic', nthread=4, scale_pos_weight=1, seed=27), \n",
    " param_grid = param_test1, scoring='roc_auc',n_jobs=4,iid=False, cv=5,verbose=10)\n",
    "gsearch1.fit(train[predictors],train[target])\n",
    "gsearch1.grid_scores_, gsearch1.best_params_, gsearch1.best_score_"
   ]
  },
  {
   "cell_type": "code",
   "execution_count": 61,
   "metadata": {
    "collapsed": false
   },
   "outputs": [
    {
     "name": "stdout",
     "output_type": "stream",
     "text": [
      "Fitting 5 folds for each of 5 candidates, totalling 25 fits\n"
     ]
    },
    {
     "name": "stderr",
     "output_type": "stream",
     "text": [
      "[Parallel(n_jobs=4)]: Done   5 tasks      | elapsed:  2.5min\n",
      "[Parallel(n_jobs=4)]: Done  10 tasks      | elapsed:  3.7min\n",
      "[Parallel(n_jobs=4)]: Done  17 tasks      | elapsed:  6.2min\n",
      "[Parallel(n_jobs=4)]: Done  25 out of  25 | elapsed:  8.1min finished\n"
     ]
    },
    {
     "name": "stdout",
     "output_type": "stream",
     "text": [
      "[CV] reg_alpha=1e-05 .................................................\n",
      "[CV] reg_alpha=1e-05 .................................................\n",
      "[CV] reg_alpha=1e-05 .................................................\n",
      "[CV] reg_alpha=1e-05 .................................................\n",
      "[CV] ........................ reg_alpha=1e-05, score=0.834861 - 1.3min[CV] ........................ reg_alpha=1e-05, score=0.828782 - 1.2min[CV] ........................ reg_alpha=1e-05, score=0.843236 - 1.3min[CV] ........................ reg_alpha=1e-05, score=0.852885 - 1.2min\n",
      "\n",
      "\n",
      "\n",
      "[CV] reg_alpha=0.01 ..................................................[CV] reg_alpha=1e-05 .................................................[CV] reg_alpha=0.01 ..................................................[CV] reg_alpha=0.01 ..................................................\n",
      "\n",
      "\n",
      "\n",
      "[CV] ......................... reg_alpha=0.01, score=0.828282 - 1.2min[CV] ........................ reg_alpha=1e-05, score=0.837347 - 1.2min[CV] ......................... reg_alpha=0.01, score=0.842514 - 1.2min[CV] ......................... reg_alpha=0.01, score=0.834872 - 1.2min\n",
      "\n",
      "\n",
      "\n",
      "[CV] reg_alpha=0.1 ...................................................[CV] reg_alpha=0.01 ..................................................[CV] reg_alpha=0.1 ...................................................[CV] reg_alpha=0.01 ..................................................\n",
      "\n",
      "\n",
      "\n",
      "[CV] .......................... reg_alpha=0.1, score=0.827175 - 1.2min[CV] ......................... reg_alpha=0.01, score=0.836637 - 1.2min[CV] .......................... reg_alpha=0.1, score=0.834895 - 1.2min[CV] ......................... reg_alpha=0.01, score=0.852771 - 1.2min\n",
      "\n",
      "\n",
      "\n",
      "[CV] reg_alpha=1 .....................................................[CV] reg_alpha=0.1 ...................................................[CV] reg_alpha=0.1 ...................................................[CV] reg_alpha=0.1 ...................................................\n",
      "\n",
      "\n",
      "\n",
      "[CV] ............................ reg_alpha=1, score=0.833778 - 1.2min[CV] .......................... reg_alpha=0.1, score=0.853330 - 1.3min[CV] .......................... reg_alpha=0.1, score=0.835694 - 1.2min[CV] .......................... reg_alpha=0.1, score=0.842521 - 1.3min\n",
      "\n",
      "\n",
      "\n",
      "[CV] reg_alpha=1 .....................................................[CV] reg_alpha=1 .....................................................[CV] reg_alpha=1 .....................................................[CV] reg_alpha=1 .....................................................\n",
      "\n",
      "\n",
      "\n",
      "[CV] ............................ reg_alpha=1, score=0.837257 - 1.2min[CV] ............................ reg_alpha=1, score=0.853409 - 1.2min[CV] ............................ reg_alpha=1, score=0.843874 - 1.2min[CV] ............................ reg_alpha=1, score=0.828671 - 1.2min\n",
      "\n",
      "\n",
      "\n",
      "[CV] reg_alpha=100 ...................................................[CV] reg_alpha=100 ...................................................[CV] reg_alpha=100 ...................................................[CV] reg_alpha=100 ...................................................\n",
      "\n",
      "\n",
      "\n",
      "[CV] .......................... reg_alpha=100, score=0.842864 - 1.1min[CV] .......................... reg_alpha=100, score=0.818149 - 1.1min[CV] .......................... reg_alpha=100, score=0.832163 - 1.1min[CV] .......................... reg_alpha=100, score=0.823584 - 1.1min\n",
      "\n",
      "\n",
      "\n",
      "[CV] reg_alpha=100 ...................................................\n",
      "[CV] .......................... reg_alpha=100, score=0.827756 -  51.2s\n"
     ]
    },
    {
     "data": {
      "text/plain": [
       "([mean: 0.83942, std: 0.00817, params: {'reg_alpha': 1e-05},\n",
       "  mean: 0.83902, std: 0.00824, params: {'reg_alpha': 0.01},\n",
       "  mean: 0.83872, std: 0.00877, params: {'reg_alpha': 0.1},\n",
       "  mean: 0.83940, std: 0.00857, params: {'reg_alpha': 1},\n",
       "  mean: 0.82890, std: 0.00838, params: {'reg_alpha': 100}],\n",
       " {'reg_alpha': 1e-05},\n",
       " 0.83942222127826338)"
      ]
     },
     "execution_count": 61,
     "metadata": {},
     "output_type": "execute_result"
    }
   ],
   "source": [
    "param_test1 = {\n",
    "    'reg_alpha':[1e-5, 1e-2, 0.1, 1, 100]\n",
    "}\n",
    "gsearch1 = GridSearchCV(estimator = XGBClassifier( learning_rate =0.1, n_estimators=140, max_depth=3,\n",
    " min_child_weight=6, gamma=.3, subsample=0.7, colsample_bytree=0.6,\n",
    " objective= 'binary:logistic', nthread=4, scale_pos_weight=1, seed=27), \n",
    " param_grid = param_test1, scoring='roc_auc',n_jobs=4,iid=False, cv=5,verbose=10)\n",
    "gsearch1.fit(train[predictors],train[target])\n",
    "gsearch1.grid_scores_, gsearch1.best_params_, gsearch1.best_score_"
   ]
  },
  {
   "cell_type": "code",
   "execution_count": 63,
   "metadata": {
    "collapsed": false
   },
   "outputs": [
    {
     "name": "stdout",
     "output_type": "stream",
     "text": [
      "Fitting 5 folds for each of 9 candidates, totalling 45 fits\n"
     ]
    },
    {
     "name": "stderr",
     "output_type": "stream",
     "text": [
      "[Parallel(n_jobs=4)]: Done   5 tasks      | elapsed:  1.8min\n",
      "[Parallel(n_jobs=4)]: Done  10 tasks      | elapsed:  3.3min\n",
      "[Parallel(n_jobs=4)]: Done  17 tasks      | elapsed:  5.4min\n",
      "[Parallel(n_jobs=4)]: Done  24 tasks      | elapsed:  7.4min\n",
      "[Parallel(n_jobs=4)]: Done  33 tasks      | elapsed: 10.3min\n",
      "[Parallel(n_jobs=4)]: Done  45 out of  45 | elapsed: 14.5min finished\n"
     ]
    },
    {
     "name": "stdout",
     "output_type": "stream",
     "text": [
      "[CV] n_estimators=100, learning_rate=0.01 ............................\n",
      "[CV] n_estimators=100, learning_rate=0.01 ............................\n",
      "[CV] n_estimators=100, learning_rate=0.01 ............................\n",
      "[CV] n_estimators=100, learning_rate=0.01 ............................\n",
      "[CV] ... n_estimators=100, learning_rate=0.01, score=0.800443 -  52.8s[CV] ... n_estimators=100, learning_rate=0.01, score=0.804373 -  52.4s[CV] ... n_estimators=100, learning_rate=0.01, score=0.818351 -  52.8s[CV] ... n_estimators=100, learning_rate=0.01, score=0.832395 -  52.7s\n",
      "\n",
      "\n",
      "\n",
      "[CV] n_estimators=140, learning_rate=0.01 ............................[CV] n_estimators=100, learning_rate=0.01 ............................[CV] n_estimators=140, learning_rate=0.01 ............................[CV] n_estimators=140, learning_rate=0.01 ............................\n",
      "\n",
      "\n",
      "\n",
      "[CV] ... n_estimators=140, learning_rate=0.01, score=0.804840 - 1.2min[CV] ... n_estimators=100, learning_rate=0.01, score=0.815143 -  51.3s[CV] ... n_estimators=140, learning_rate=0.01, score=0.819365 - 1.2min[CV] ... n_estimators=140, learning_rate=0.01, score=0.800397 - 1.2min\n",
      "\n",
      "\n",
      "\n",
      "[CV] n_estimators=190, learning_rate=0.01 ............................[CV] n_estimators=140, learning_rate=0.01 ............................[CV] n_estimators=140, learning_rate=0.01 ............................[CV] n_estimators=190, learning_rate=0.01 ............................\n",
      "\n",
      "\n",
      "\n",
      "[CV] ... n_estimators=190, learning_rate=0.01, score=0.809994 - 1.6min[CV] ... n_estimators=140, learning_rate=0.01, score=0.833689 - 1.2min[CV] ... n_estimators=140, learning_rate=0.01, score=0.815826 - 1.2min[CV] ... n_estimators=190, learning_rate=0.01, score=0.806264 - 1.6min\n",
      "\n",
      "\n",
      "\n",
      "[CV] n_estimators=100, learning_rate=0.05 ............................[CV] n_estimators=190, learning_rate=0.01 ............................[CV] n_estimators=190, learning_rate=0.01 ............................[CV] n_estimators=190, learning_rate=0.01 ............................\n",
      "\n",
      "\n",
      "\n",
      "[CV] ... n_estimators=100, learning_rate=0.05, score=0.828336 -  51.0s[CV] ... n_estimators=190, learning_rate=0.01, score=0.823310 - 1.6min[CV] ... n_estimators=190, learning_rate=0.01, score=0.837722 - 1.6min[CV] ... n_estimators=190, learning_rate=0.01, score=0.820279 - 1.6min\n",
      "\n",
      "\n",
      "\n",
      "[CV] n_estimators=100, learning_rate=0.05 ............................[CV] n_estimators=100, learning_rate=0.05 ............................[CV] n_estimators=100, learning_rate=0.05 ............................[CV] n_estimators=100, learning_rate=0.05 ............................\n",
      "\n",
      "\n",
      "\n",
      "[CV] ... n_estimators=100, learning_rate=0.05, score=0.837158 -  51.3s[CV] ... n_estimators=100, learning_rate=0.05, score=0.825814 -  50.8s[CV] ... n_estimators=100, learning_rate=0.05, score=0.850913 -  50.3s[CV] ... n_estimators=100, learning_rate=0.05, score=0.833386 -  51.0s\n",
      "\n",
      "\n",
      "\n",
      "[CV] n_estimators=140, learning_rate=0.05 ............................[CV] n_estimators=140, learning_rate=0.05 ............................[CV] n_estimators=140, learning_rate=0.05 ............................[CV] n_estimators=140, learning_rate=0.05 ............................\n",
      "\n",
      "\n",
      "\n",
      "[CV] ... n_estimators=140, learning_rate=0.05, score=0.828412 - 1.2min[CV] ... n_estimators=140, learning_rate=0.05, score=0.832995 - 1.2min[CV] ... n_estimators=140, learning_rate=0.05, score=0.840742 - 1.2min[CV] ... n_estimators=140, learning_rate=0.05, score=0.852313 - 1.3min\n",
      "\n",
      "\n",
      "\n",
      "[CV] n_estimators=190, learning_rate=0.05 ............................[CV] n_estimators=140, learning_rate=0.05 ............................[CV] n_estimators=190, learning_rate=0.05 ............................[CV] n_estimators=190, learning_rate=0.05 ............................\n",
      "\n",
      "\n",
      "\n",
      "[CV] ... n_estimators=190, learning_rate=0.05, score=0.834852 - 1.8min[CV] ... n_estimators=140, learning_rate=0.05, score=0.836167 - 1.3min[CV] ... n_estimators=190, learning_rate=0.05, score=0.828658 - 1.7min[CV] ... n_estimators=190, learning_rate=0.05, score=0.842884 - 1.7min\n",
      "\n",
      "\n",
      "\n",
      "[CV] n_estimators=190, learning_rate=0.05 ............................[CV] n_estimators=190, learning_rate=0.05 ............................[CV] n_estimators=100, learning_rate=0.1 .............................[CV] n_estimators=100, learning_rate=0.1 .............................\n",
      "\n",
      "\n",
      "\n",
      "[CV] ... n_estimators=190, learning_rate=0.05, score=0.836867 - 1.6min[CV] ... n_estimators=190, learning_rate=0.05, score=0.852750 - 1.6min[CV] .... n_estimators=100, learning_rate=0.1, score=0.834836 -  50.7s[CV] .... n_estimators=100, learning_rate=0.1, score=0.829219 -  51.2s\n",
      "\n",
      "\n",
      "\n",
      "[CV] n_estimators=140, learning_rate=0.1 .............................[CV] n_estimators=100, learning_rate=0.1 .............................[CV] n_estimators=100, learning_rate=0.1 .............................[CV] n_estimators=100, learning_rate=0.1 .............................\n",
      "\n",
      "\n",
      "\n",
      "[CV] .... n_estimators=140, learning_rate=0.1, score=0.834861 - 1.2min[CV] .... n_estimators=100, learning_rate=0.1, score=0.853437 -  50.6s[CV] .... n_estimators=100, learning_rate=0.1, score=0.842328 -  51.3s[CV] .... n_estimators=100, learning_rate=0.1, score=0.837442 -  52.1s\n",
      "\n",
      "\n",
      "\n",
      "[CV] n_estimators=140, learning_rate=0.1 .............................[CV] n_estimators=140, learning_rate=0.1 .............................[CV] n_estimators=140, learning_rate=0.1 .............................[CV] n_estimators=140, learning_rate=0.1 .............................\n",
      "\n",
      "\n",
      "\n",
      "[CV] .... n_estimators=140, learning_rate=0.1, score=0.837347 - 1.3min[CV] .... n_estimators=140, learning_rate=0.1, score=0.843236 - 1.2min[CV] .... n_estimators=140, learning_rate=0.1, score=0.828782 - 1.2min[CV] .... n_estimators=140, learning_rate=0.1, score=0.852885 - 1.2min\n",
      "\n",
      "\n",
      "\n",
      "[CV] n_estimators=190, learning_rate=0.1 .............................[CV] n_estimators=190, learning_rate=0.1 .............................[CV] n_estimators=190, learning_rate=0.1 .............................[CV] n_estimators=190, learning_rate=0.1 .............................\n",
      "\n",
      "\n",
      "\n",
      "[CV] .... n_estimators=190, learning_rate=0.1, score=0.852350 - 1.5min[CV] .... n_estimators=190, learning_rate=0.1, score=0.827493 - 1.7min[CV] .... n_estimators=190, learning_rate=0.1, score=0.834942 - 1.7min[CV] .... n_estimators=190, learning_rate=0.1, score=0.842129 - 1.6min\n",
      "\n",
      "\n",
      "\n",
      "[CV] n_estimators=190, learning_rate=0.1 .............................\n",
      "[CV] .... n_estimators=190, learning_rate=0.1, score=0.835970 - 1.4min\n"
     ]
    },
    {
     "data": {
      "text/plain": [
       "([mean: 0.81414, std: 0.01127, params: {'n_estimators': 100, 'learning_rate': 0.01},\n",
       "  mean: 0.81482, std: 0.01171, params: {'n_estimators': 140, 'learning_rate': 0.01},\n",
       "  mean: 0.81951, std: 0.01107, params: {'n_estimators': 190, 'learning_rate': 0.01},\n",
       "  mean: 0.83512, std: 0.00882, params: {'n_estimators': 100, 'learning_rate': 0.05},\n",
       "  mean: 0.83813, std: 0.00816, params: {'n_estimators': 140, 'learning_rate': 0.05},\n",
       "  mean: 0.83920, std: 0.00816, params: {'n_estimators': 190, 'learning_rate': 0.05},\n",
       "  mean: 0.83945, std: 0.00817, params: {'n_estimators': 100, 'learning_rate': 0.1},\n",
       "  mean: 0.83942, std: 0.00817, params: {'n_estimators': 140, 'learning_rate': 0.1},\n",
       "  mean: 0.83858, std: 0.00831, params: {'n_estimators': 190, 'learning_rate': 0.1}],\n",
       " {'learning_rate': 0.1, 'n_estimators': 100},\n",
       " 0.83945239498656243)"
      ]
     },
     "execution_count": 63,
     "metadata": {},
     "output_type": "execute_result"
    }
   ],
   "source": [
    "param_test1 = {\n",
    "    'learning_rate':[.01,.05, 0.1],\n",
    "    'n_estimators':[100,140,190]\n",
    "}\n",
    "gsearch1 = GridSearchCV(estimator = XGBClassifier( learning_rate =0.1, n_estimators=140, max_depth=3,\n",
    " min_child_weight=6, gamma=.3, subsample=0.7, colsample_bytree=0.6,\n",
    " objective= 'binary:logistic', nthread=4, scale_pos_weight=1, seed=27), \n",
    " param_grid = param_test1, scoring='roc_auc',n_jobs=4,iid=False, cv=5,verbose=10)\n",
    "gsearch1.fit(train[predictors],train[target])\n",
    "gsearch1.grid_scores_, gsearch1.best_params_, gsearch1.best_score_"
   ]
  },
  {
   "cell_type": "code",
   "execution_count": 64,
   "metadata": {
    "collapsed": true
   },
   "outputs": [],
   "source": [
    "estimator = XGBClassifier( learning_rate =0.1, n_estimators=140, max_depth=3,\n",
    " min_child_weight=6, gamma=.3, subsample=0.7, colsample_bytree=0.6,\n",
    " objective= 'binary:logistic', nthread=4, scale_pos_weight=1, seed=27)"
   ]
  },
  {
   "cell_type": "code",
   "execution_count": 67,
   "metadata": {
    "collapsed": false
   },
   "outputs": [],
   "source": [
    "write_submission_file(estimator,\"xgboost1\")"
   ]
  },
  {
   "cell_type": "code",
   "execution_count": null,
   "metadata": {
    "collapsed": true
   },
   "outputs": [],
   "source": []
  }
 ],
 "metadata": {
  "kernelspec": {
   "display_name": "Python 2",
   "language": "python",
   "name": "python2"
  },
  "language_info": {
   "codemirror_mode": {
    "name": "ipython",
    "version": 2
   },
   "file_extension": ".py",
   "mimetype": "text/x-python",
   "name": "python",
   "nbconvert_exporter": "python",
   "pygments_lexer": "ipython2",
   "version": "2.7.11"
  }
 },
 "nbformat": 4,
 "nbformat_minor": 0
}
